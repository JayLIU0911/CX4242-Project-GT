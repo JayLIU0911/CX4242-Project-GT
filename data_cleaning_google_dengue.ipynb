{
 "cells": [
  {
   "cell_type": "code",
   "execution_count": null,
   "metadata": {},
   "outputs": [],
   "source": [
    "import json\n",
    "import csv"
   ]
  },
  {
   "cell_type": "code",
   "execution_count": null,
   "metadata": {},
   "outputs": [],
   "source": [
    "input_file = 'data/dengue_data.txt'\n",
    "output_file = 'data/google_dengue.json'"
   ]
  },
  {
   "cell_type": "code",
   "execution_count": null,
   "metadata": {},
   "outputs": [],
   "source": [
    "country_names = []\n",
    "with open(\"data/world-110m-country-names.tsv\") as fd:\n",
    "    rd = csv.reader(fd, delimiter=\"\\t\")\n",
    "    for row in rd:\n",
    "#         print(row[1])\n",
    "        country_names.append(row[1])\n",
    "country_names = set(country_names)"
   ]
  },
  {
   "cell_type": "code",
   "execution_count": null,
   "metadata": {},
   "outputs": [],
   "source": [
    "country_names"
   ]
  },
  {
   "cell_type": "code",
   "execution_count": null,
   "metadata": {},
   "outputs": [],
   "source": [
    "data_names = []\n",
    "with open(input_file) as fd:\n",
    "    rd = csv.reader(fd, delimiter=\",\")\n",
    "    for row in rd:\n",
    "        if row[0] == 'Date':\n",
    "            data_names = row\n",
    "            data_names.remove('Date')\n",
    "            data_names = set(data_names)\n",
    "            break"
   ]
  },
  {
   "cell_type": "code",
   "execution_count": null,
   "metadata": {},
   "outputs": [],
   "source": [
    "data_names"
   ]
  },
  {
   "cell_type": "code",
   "execution_count": null,
   "metadata": {},
   "outputs": [],
   "source": [
    "def string_convert(input_string):\n",
    "    if input_string == 'Bolivia':\n",
    "        return 'Bolivia, Plurinational State of'\n",
    "    if input_string == 'Venezuela':\n",
    "        return 'Venezuela, Bolivarian Republic of'\n",
    "    else:\n",
    "        return input_string"
   ]
  },
  {
   "cell_type": "code",
   "execution_count": null,
   "metadata": {},
   "outputs": [],
   "source": [
    "for data_name in data_names:\n",
    "    if string_convert(data_name) not in country_names:\n",
    "        print(data_name)"
   ]
  },
  {
   "cell_type": "code",
   "execution_count": null,
   "metadata": {},
   "outputs": [],
   "source": [
    "country_ids = {}\n",
    "with open(\"data/world-110m-country-names.tsv\") as fd:\n",
    "    rd = csv.reader(fd, delimiter=\"\\t\")\n",
    "    for row in rd:\n",
    "        if row[1] == 'name':\n",
    "            continue\n",
    "        country_id = int(row[0])\n",
    "        country_name = row[1]\n",
    "        country_ids[country_name] = country_id"
   ]
  },
  {
   "cell_type": "code",
   "execution_count": null,
   "metadata": {},
   "outputs": [],
   "source": [
    "dictionary = {}\n",
    "country_mapping = {}\n",
    "with open(input_file) as fd:\n",
    "    rd = csv.reader(fd, delimiter=\",\")\n",
    "    week_num = 1\n",
    "    prev_year = 2002\n",
    "    for row in rd:\n",
    "        if row[0] == 'Date':\n",
    "            dictionary['countries'] = {}\n",
    "            for i in range(1,len(row)):\n",
    "                if string_convert(row[i]) not in dictionary['countries']:\n",
    "                    country_mapping[i] = string_convert(row[i])\n",
    "                    dictionary['countries'][string_convert(row[i])] = {}\n",
    "                    dictionary['countries'][string_convert(row[i])]['name'] = string_convert(row[i])\n",
    "                    dictionary['countries'][string_convert(row[i])]['weeks'] = {}\n",
    "                    if string_convert(row[i]) in country_ids:\n",
    "                        dictionary['countries'][string_convert(row[i])]['id'] = country_ids[string_convert(row[i])]\n",
    "                    else:\n",
    "                        dictionary['countries'][string_convert(row[i])]['id'] = -9999\n",
    "        else:\n",
    "            if int(row[0].split('-')[0]) != prev_year:\n",
    "                week_num = 1\n",
    "                prev_year = int(row[0].split('-')[0])\n",
    "            \n",
    "            attribute = 'weekly dengue activity estimates for year ' + str(prev_year)\n",
    "            \n",
    "            for i in range(1,len(row)):\n",
    "                if week_num not in dictionary['countries'][country_mapping[i]]['weeks']:\n",
    "                    dictionary['countries'][country_mapping[i]]['weeks'][week_num] = {}\n",
    "                if prev_year not in dictionary['countries'][country_mapping[i]]['weeks'][week_num]:\n",
    "                    if row[i] == '':\n",
    "                        dictionary['countries'][country_mapping[i]]['weeks'][week_num][attribute] = 0.0\n",
    "                    else:\n",
    "                        dictionary['countries'][country_mapping[i]]['weeks'][week_num][attribute] = float(row[i])\n",
    "                    \n",
    "            week_num += 1"
   ]
  },
  {
   "cell_type": "code",
   "execution_count": null,
   "metadata": {},
   "outputs": [],
   "source": [
    "dictionary"
   ]
  },
  {
   "cell_type": "code",
   "execution_count": null,
   "metadata": {},
   "outputs": [],
   "source": [
    "with open(output_file, 'w') as fp:\n",
    "    json.dump(dictionary, fp)"
   ]
  },
  {
   "cell_type": "code",
   "execution_count": null,
   "metadata": {},
   "outputs": [],
   "source": []
  }
 ],
 "metadata": {
  "kernelspec": {
   "display_name": "Python 3",
   "language": "python",
   "name": "python3"
  },
  "language_info": {
   "codemirror_mode": {
    "name": "ipython",
    "version": 3
   },
   "file_extension": ".py",
   "mimetype": "text/x-python",
   "name": "python",
   "nbconvert_exporter": "python",
   "pygments_lexer": "ipython3",
   "version": "3.6.4"
  }
 },
 "nbformat": 4,
 "nbformat_minor": 2
}
